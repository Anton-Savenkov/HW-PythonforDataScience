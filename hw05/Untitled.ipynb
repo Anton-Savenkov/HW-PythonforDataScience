{
 "cells": [
  {
   "cell_type": "markdown",
   "id": "e9c970ad-37b8-4deb-8628-4eafa86b83b7",
   "metadata": {},
   "source": [
    "## Итоговый проект"
   ]
  },
  {
   "cell_type": "markdown",
   "id": "71cfde12-669e-43d3-9ff7-026b6b0f5602",
   "metadata": {},
   "source": [
    "### Задание для курсового проекта\n",
    "Метрика: R2 - коэффицент детерминнации (sklearn.metrics.r2_score)\n",
    "\n",
    "Сдача поекта:\n",
    "1. Прислать в раздел Задания урока 10 (\"Вебинар. Консультация по итоговому проекту\") ссылку на ноутбук в github или public kaggle notebook.\n",
    "2. Необходимо получить  R2 > 0,6\n",
    "\n",
    "Примечание: все файлы csv должны содержать названия полей ("
   ]
  }
 ],
 "metadata": {
  "kernelspec": {
   "display_name": "Python 3 (ipykernel)",
   "language": "python",
   "name": "python3"
  },
  "language_info": {
   "codemirror_mode": {
    "name": "ipython",
    "version": 3
   },
   "file_extension": ".py",
   "mimetype": "text/x-python",
   "name": "python",
   "nbconvert_exporter": "python",
   "pygments_lexer": "ipython3",
   "version": "3.9.13"
  }
 },
 "nbformat": 4,
 "nbformat_minor": 5
}
