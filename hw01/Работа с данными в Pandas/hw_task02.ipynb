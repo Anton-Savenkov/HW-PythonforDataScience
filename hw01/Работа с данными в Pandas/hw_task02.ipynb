{
 "cells": [
  {
   "cell_type": "markdown",
   "source": [
    "### Задание 1\n",
    "Импортируйте библиотеку Pandas и дайте ей псевдоним pd. Создайте датафрейм authors со столбцами author_id и author_name, в которых соответственно содержатся данные: [1, 2, 3] и ['Тургенев', 'Чехов', 'Островский'].\n",
    "Затем создайте датафрейм book cо столбцами author_id, book_title и price, в которых соответственно содержатся данные:\n",
    "[1, 1, 1, 2, 2, 3, 3],\n",
    "['Отцы и дети', 'Рудин', 'Дворянское гнездо', 'Толстый и тонкий', 'Дама с собачкой', 'Гроза', 'Таланты и поклонники']\n",
    "Нужны prices!\n",
    "[500, 400, 300, 350, 450, 600, 200]"
   ],
   "metadata": {
    "collapsed": false
   },
   "id": "5b815c8a2a95bc07"
  },
  {
   "cell_type": "code",
   "outputs": [
    {
     "name": "stdout",
     "output_type": "stream",
     "text": [
      "Датафрейм authors:\n",
      "    author_id author_name\n",
      "0          1    Тургенев\n",
      "1          2       Чехов\n",
      "2          3  Островский\n",
      "\n",
      "Датафрейм book:\n",
      "    author_id            book_title  price\n",
      "0          1           Отцы и дети    500\n",
      "1          1                 Рудин    400\n",
      "2          1     Дворянское гнездо    300\n",
      "3          2      Толстый и тонкий    350\n",
      "4          2       Дама с собачкой    450\n",
      "5          3                 Гроза    600\n",
      "6          3  Таланты и поклонники    200\n"
     ]
    }
   ],
   "source": [
    "import pandas as pd\n",
    "\n",
    "# Создаем датафрейм authors\n",
    "authors = pd.DataFrame({'author_id': [1, 2, 3],\n",
    "                       'author_name': ['Тургенев', 'Чехов', 'Островский']})\n",
    "\n",
    "# Создаем датафрейм book\n",
    "book = pd.DataFrame({'author_id': [1, 1, 1, 2, 2, 3, 3],\n",
    "                    'book_title': ['Отцы и дети', 'Рудин', 'Дворянское гнездо', 'Толстый и тонкий', 'Дама с собачкой', 'Гроза', 'Таланты и поклонники'],\n",
    "                    'price': [500, 400, 300, 350, 450, 600, 200]})\n",
    "\n",
    "# Выводим датафреймы\n",
    "print(\"Датафрейм authors:\\n\", authors)\n",
    "print(\"\\nДатафрейм book:\\n\", book)"
   ],
   "metadata": {
    "collapsed": true,
    "ExecuteTime": {
     "end_time": "2024-07-16T19:06:45.906093Z",
     "start_time": "2024-07-16T19:06:45.405655Z"
    }
   },
   "id": "initial_id",
   "execution_count": 2
  },
  {
   "cell_type": "markdown",
   "source": [
    "### Задание 2\n",
    "Получите датафрейм authors_price, соединив дата фреймы authors и books по полю author_id."
   ],
   "metadata": {
    "collapsed": false
   },
   "id": "72ab4c7848f65de4"
  },
  {
   "cell_type": "code",
   "outputs": [
    {
     "name": "stdout",
     "output_type": "stream",
     "text": [
      "Датафрейм authors_price:\n",
      "    author_id author_name            book_title  price\n",
      "0          1    Тургенев           Отцы и дети    500\n",
      "1          1    Тургенев                 Рудин    400\n",
      "2          1    Тургенев     Дворянское гнездо    300\n",
      "3          2       Чехов      Толстый и тонкий    350\n",
      "4          2       Чехов       Дама с собачкой    450\n",
      "5          3  Островский                 Гроза    600\n",
      "6          3  Островский  Таланты и поклонники    200\n"
     ]
    }
   ],
   "source": [
    "# Соединяем датафреймы по полю author_id\n",
    "authors_price = pd.merge(authors, book, on='author_id')\n",
    "\n",
    "# Выводим результат\n",
    "print(\"Датафрейм authors_price:\\n\", authors_price)"
   ],
   "metadata": {
    "collapsed": false,
    "ExecuteTime": {
     "end_time": "2024-07-16T19:07:42.876990Z",
     "start_time": "2024-07-16T19:07:42.792052Z"
    }
   },
   "id": "8db6866d4f6c10b2",
   "execution_count": 3
  },
  {
   "cell_type": "markdown",
   "source": [
    "### Задание 3\n",
    "Создайте датафрейм top5, в котором содержатся строки из authors_price с пятью самыми дорогими книгами."
   ],
   "metadata": {
    "collapsed": false
   },
   "id": "a4d7055f10d61bc1"
  },
  {
   "cell_type": "code",
   "outputs": [
    {
     "name": "stdout",
     "output_type": "stream",
     "text": [
      "Датафрейм top5:\n",
      "    author_id author_name        book_title  price\n",
      "5          3  Островский             Гроза    600\n",
      "0          1    Тургенев       Отцы и дети    500\n",
      "4          2       Чехов   Дама с собачкой    450\n",
      "1          1    Тургенев             Рудин    400\n",
      "3          2       Чехов  Толстый и тонкий    350\n"
     ]
    }
   ],
   "source": [
    "# Сортируем датафрейм по цене в порядке убывания\n",
    "authors_price_sorted = authors_price.sort_values(by='price', ascending=False)\n",
    "\n",
    "# Выбираем первые 5 строк\n",
    "top5 = authors_price_sorted.head(5)\n",
    "\n",
    "# Выводим результат\n",
    "print(\"Датафрейм top5:\\n\", top5)"
   ],
   "metadata": {
    "collapsed": false,
    "ExecuteTime": {
     "end_time": "2024-07-16T19:08:33.731539Z",
     "start_time": "2024-07-16T19:08:33.629151Z"
    }
   },
   "id": "60f37e41d5fc44e7",
   "execution_count": 4
  },
  {
   "cell_type": "markdown",
   "source": [
    "### Задание 4\n",
    "Создайте датафрейм authors_stat на основе информации из authors_price. В датафрейме authors_stat должны быть четыре столбца:\n",
    "author_name, min_price, max_price и mean_price,\n",
    "в которых должны содержаться соответственно имя автора, минимальная, максимальная и средняя цена на книги этого автора."
   ],
   "metadata": {
    "collapsed": false
   },
   "id": "976b85861594e042"
  },
  {
   "cell_type": "code",
   "outputs": [
    {
     "name": "stdout",
     "output_type": "stream",
     "text": [
      "Датафрейм authors_stat:\n",
      "              min_price  max_price  mean_price\n",
      "author_name                                  \n",
      "Островский         200        600       400.0\n",
      "Тургенев           300        500       400.0\n",
      "Чехов              350        450       400.0\n"
     ]
    }
   ],
   "source": [
    "# Группируем по author_name, вычисляем агрегатные значения\n",
    "authors_stat = authors_price.groupby('author_name').agg({'price': ['min', 'max', 'mean']})\n",
    "\n",
    "# Переименовываем столбцы\n",
    "authors_stat.columns = ['min_price', 'max_price', 'mean_price']\n",
    "\n",
    "# Выводим результат\n",
    "print(\"Датафрейм authors_stat:\\n\", authors_stat)"
   ],
   "metadata": {
    "collapsed": false,
    "ExecuteTime": {
     "end_time": "2024-07-16T19:10:49.522255Z",
     "start_time": "2024-07-16T19:10:49.429040Z"
    }
   },
   "id": "182bb6ebff26064d",
   "execution_count": 5
  },
  {
   "cell_type": "code",
   "outputs": [],
   "source": [],
   "metadata": {
    "collapsed": false
   },
   "id": "ccc87b4e7cc71d3b"
  }
 ],
 "metadata": {
  "kernelspec": {
   "display_name": "Python 3",
   "language": "python",
   "name": "python3"
  },
  "language_info": {
   "codemirror_mode": {
    "name": "ipython",
    "version": 2
   },
   "file_extension": ".py",
   "mimetype": "text/x-python",
   "name": "python",
   "nbconvert_exporter": "python",
   "pygments_lexer": "ipython2",
   "version": "2.7.6"
  }
 },
 "nbformat": 4,
 "nbformat_minor": 5
}
