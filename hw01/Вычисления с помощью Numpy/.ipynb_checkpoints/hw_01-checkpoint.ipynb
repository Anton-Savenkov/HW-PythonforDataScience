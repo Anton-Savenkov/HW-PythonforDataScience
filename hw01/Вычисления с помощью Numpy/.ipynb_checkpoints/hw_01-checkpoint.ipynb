{
 "cells": [
  {
   "cell_type": "markdown",
   "id": "be480126-b3b1-463e-8c44-f119e7b45abb",
   "metadata": {
    "collapsed": true,
    "jupyter": {
     "outputs_hidden": true
    }
   },
   "source": [
    "### Задание 1\n",
    "Создайте массив Numpy под названием a размером 5x2, то есть состоящий из 5 строк и 2 столбцов. Первый столбец должен содержать числа 1, 2, 3, 3, 1, а второй - числа 6, 8, 11, 10, 7. Будем считать, что каждый столбец - это признак, а строка - наблюдение. Затем найдите среднее значение по каждому признаку, используя метод mean массива Numpy. Результат запишите в массив mean_a, в нем должно быть 2 элемента."
   ]
  },
  {
   "cell_type": "code",
   "execution_count": 1,
   "id": "ecdc7c58-89db-4093-806b-1269ef1e6ae0",
   "metadata": {},
   "outputs": [
    {
     "name": "stdout",
     "output_type": "stream",
     "text": [
      "Массив a:\n",
      " [[ 1  6]\n",
      " [ 2  8]\n",
      " [ 3 11]\n",
      " [ 3 10]\n",
      " [ 1  7]]\n",
      "\n",
      "Среднее значение по каждому признаку (mean_a):\n",
      " [2.  8.4]\n"
     ]
    }
   ],
   "source": [
    "import numpy as np\n",
    "\n",
    "# Создаем массив Numpy a\n",
    "a = np.array([[1, 6],\n",
    "              [2, 8],\n",
    "              [3, 11],\n",
    "              [3, 10],\n",
    "              [1, 7]])\n",
    "\n",
    "# Вычисляем среднее значение по каждому признаку\n",
    "mean_a = np.mean(a, axis=0)\n",
    "\n",
    "# Выводим результат\n",
    "print(\"Массив a:\\n\", a)\n",
    "print(\"\\nСреднее значение по каждому признаку (mean_a):\\n\", mean_a)"
   ]
  },
  {
   "cell_type": "markdown",
   "id": "ac4a1d81-9d2e-492d-9455-f947718c8816",
   "metadata": {},
   "source": [
    "### Задание 2\n",
    "Вычислите массив a_centered, отняв от значений массива “а” средние значения соответствующих признаков, содержащиеся в массиве mean_a. Вычисление должно производиться в одно действие. Получившийся массив должен иметь размер 5x2."
   ]
  },
  {
   "cell_type": "code",
   "execution_count": 2,
   "id": "80280b1b-4884-49da-84f0-de5d0b981d4b",
   "metadata": {},
   "outputs": [
    {
     "name": "stdout",
     "output_type": "stream",
     "text": [
      "Массив a:\n",
      " [[ 1  6]\n",
      " [ 2  8]\n",
      " [ 3 11]\n",
      " [ 3 10]\n",
      " [ 1  7]]\n",
      "\n",
      "Среднее значение по каждому признаку (mean_a):\n",
      " [2.  8.4]\n",
      "\n",
      "Массив a_centered:\n",
      " [[-1.  -2.4]\n",
      " [ 0.  -0.4]\n",
      " [ 1.   2.6]\n",
      " [ 1.   1.6]\n",
      " [-1.  -1.4]]\n"
     ]
    }
   ],
   "source": [
    "# Вычисляем a_centered\n",
    "a_centered = a - mean_a\n",
    "\n",
    "# Выводим результат\n",
    "print(\"Массив a:\\n\", a)\n",
    "print(\"\\nСреднее значение по каждому признаку (mean_a):\\n\", mean_a)\n",
    "print(\"\\nМассив a_centered:\\n\", a_centered)"
   ]
  },
  {
   "cell_type": "markdown",
   "id": "5e04a132-c3df-488f-99e4-5a10ca92a9cc",
   "metadata": {},
   "source": [
    "### Задание 3\n",
    "Найдите скалярное произведение столбцов массива a_centered. В результате должна получиться величина _centered_spa. Затем поделите a_centered_sp на N-1, где N - число наблюдений."
   ]
  },
  {
   "cell_type": "code",
   "execution_count": 3,
   "id": "34f53dcf-0798-4e03-a1b8-48e6baaf6f29",
   "metadata": {},
   "outputs": [
    {
     "name": "stdout",
     "output_type": "stream",
     "text": [
      "Массив a_centered:\n",
      " [[-1.  -2.4]\n",
      " [ 0.  -0.4]\n",
      " [ 1.   2.6]\n",
      " [ 1.   1.6]\n",
      " [-1.  -1.4]]\n",
      "\n",
      "Скалярное произведение столбцов a_centered (a_centered_sp): 8.0\n",
      "\n",
      "Нормализованное скалярное произведение (a_centered_sp_normalized): 2.0\n"
     ]
    }
   ],
   "source": [
    "# Вычисляем скалярное произведение столбцов a_centered\n",
    "a_centered_sp = np.dot(a_centered[:, 0], a_centered[:, 1])\n",
    "\n",
    "# Вычисляем число наблюдений\n",
    "N = a_centered.shape[0]\n",
    "\n",
    "# Делим a_centered_sp на N-1\n",
    "a_centered_sp_normalized = a_centered_sp / (N - 1)\n",
    "\n",
    "# Выводим результат\n",
    "print(\"Массив a_centered:\\n\", a_centered)\n",
    "print(\"\\nСкалярное произведение столбцов a_centered (a_centered_sp):\", a_centered_sp)\n",
    "print(\"\\nНормализованное скалярное произведение (a_centered_sp_normalized):\", a_centered_sp_normalized)"
   ]
  },
  {
   "cell_type": "code",
   "execution_count": null,
   "id": "75360528-78fe-4f58-97c2-116e51eeba61",
   "metadata": {},
   "outputs": [],
   "source": []
  }
 ],
 "metadata": {
  "kernelspec": {
   "display_name": "Python 3 (ipykernel)",
   "language": "python",
   "name": "python3"
  },
  "language_info": {
   "codemirror_mode": {
    "name": "ipython",
    "version": 3
   },
   "file_extension": ".py",
   "mimetype": "text/x-python",
   "name": "python",
   "nbconvert_exporter": "python",
   "pygments_lexer": "ipython3",
   "version": "3.9.13"
  }
 },
 "nbformat": 4,
 "nbformat_minor": 5
}
